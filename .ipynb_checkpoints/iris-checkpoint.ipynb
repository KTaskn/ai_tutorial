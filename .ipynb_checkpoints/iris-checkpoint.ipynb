{
 "cells": [
  {
   "cell_type": "markdown",
   "metadata": {},
   "source": [
    "# データ分析の手順\n",
    "\n",
    "## CRISP-DM\n",
    "\n",
    "定番の分析プロセス。名前は知らなくてもだいたいこんな感じ。\n",
    "矢印はおおまかな方向であって、手順はいったりきたりする。\n",
    "\n",
    "![image.png](./images/crisp_dm.png)\n",
    "* [wikiped Cross-industry standard process for data mining](https://en.wikipedia.org/wiki/Cross-industry_standard_process_for_data_mining#:~:text=Cross%2Dindustry%20standard%20process%20for%20data%20mining%2C%20known%20as%20CRISP,most%20widely%2Dused%20analytics%20model.)より\n",
    "\n",
    "## ビジネス理解\n",
    "* 何を解きたいのか？、何を解きたいのかで手法や精度が変わってくる\n",
    "    * １００ｍ競争を例に、\n",
    "        * 出走者の**タイム**を予測したい\n",
    "        * **１着**を予測したい\n",
    "        * １着から5着までの**着順**を予測したい\n",
    "        * ある選手が**１着になる確率**を予測したい\n",
    "* ビジネスならば、すでに手作業で行っていることをシステム（AI）に置き換える\n",
    "    * 手作業を行っている作業者は長年の多くの知識を持っているそれを利用しない手はない\n",
    "\n",
    "\n",
    "## データ理解\n",
    "* 必要なデータは集まっているのか？\n",
    "* データにノイズは含まれていないか？\n",
    "* データに不足はないか？穴は空いていないか？\n",
    "* 本当にこのデータから作りたいシステムはつくれるのか？\n",
    "\n",
    "## データ準備\n",
    "* **データ収集**、データなしには始まらない\n",
    "    * どう集めるのか？\n",
    "    * 本当に集まるのか？\n",
    "    * 役にたつものなのか？\n",
    "* データ加工\n",
    "    * 穴埋め\n",
    "        * １ヶ月分のデータをとったが、ある日だけうまくとれていない\n",
    "        * どうやって穴埋めする？\n",
    "    * 収集した生データから分析できる形に加工\n",
    "        * 文字列を数値に変換する\n",
    "        * 画像を数値に変換する\n",
    "        * 音楽を数値に変換する\n",
    "    * （後述の）モデルに適用するための加工\n",
    "\n",
    "## モデル作成\n",
    "* アルゴリズムの選択\n",
    "    * 回帰分析\n",
    "    * 決定木\n",
    "    * ディープラーニング\n",
    "    * etc\n",
    "* パラメーターチューニング\n",
    "\n",
    "## 評価\n",
    "作成したモデルは、課題解決のために十分な精度がでているだろうか？\n",
    "\n",
    "## 展開・公開\n",
    "実利用には様々な課題がでてくる\n",
    "\n",
    "* マシンリソース\n",
    "* 利用者の理解\n"
   ]
  },
  {
   "cell_type": "markdown",
   "metadata": {},
   "source": [
    "# 演習\n",
    "## 手順\n",
    "1. データ展開(irisデータセット)\n",
    "1. モデル作成（回帰） ←なんだかんだいっても、まず予測しないとつまらない\n",
    "1. データ理解\n",
    "1. データ準備（加工）"
   ]
  },
  {
   "cell_type": "markdown",
   "metadata": {},
   "source": [
    "# irisデータセット\n",
    "有名なデータセット\n",
    "花のアヤメの花の大きさのデータ\n",
    "\n",
    "![image.png](./images/iris_image.png)\n",
    "\n",
    "# 1. データ確認\n",
    "csvをエクセルで開いて、中身を確認しよう\n",
    "\n",
    "\n",
    "## データ\n",
    "* 学習用データ\n",
    "    * iris_learn.csv\n",
    "        * id\n",
    "        * sepal.length\n",
    "        * sepal.width\n",
    "        * petal.width\n",
    "* 予測用データ\n",
    "    * iris_predict.csv\n",
    "        * id\n",
    "        * sepal.length\n",
    "        * sepal.width"
   ]
  },
  {
   "cell_type": "markdown",
   "metadata": {},
   "source": [
    "# 2. モデルを作成してみよう\n",
    "\n",
    "モデルをつくるアルゴリズムは色々あります。\n",
    "今回は、線形回帰分析を行います。\n",
    "\n",
    "[ここの解説がわかりやすい](https://istat.co.jp/ta_commentary/multiple)"
   ]
  },
  {
   "cell_type": "code",
   "execution_count": 1,
   "metadata": {},
   "outputs": [
    {
     "data": {
      "text/plain": [
       "Int64Index([  0,   1,   2,   3,   4,   5,   6,   7,   8,   9,  50,  51,  52,\n",
       "             53,  54,  55,  56,  57,  58,  59, 100, 101, 102, 103, 104, 105,\n",
       "            106, 107, 108, 109],\n",
       "           dtype='int64')"
      ]
     },
     "metadata": {},
     "output_type": "display_data"
    }
   ],
   "source": [
    "#　このセルは色々とおまじないです\n",
    "\n",
    "%matplotlib inline\n",
    "import matplotlib.pyplot as plt\n",
    "\n",
    "from sklearn.linear_model import LinearRegression\n",
    "import pandas as pd\n",
    "import numpy as np\n",
    "from sklearn.metrics import r2_score\n",
    "\n",
    "def plot_scatter(x, y):\n",
    "    plt.figure(figsize=(5, 5))\n",
    "    plt.scatter(x, y)\n",
    "    plt.show()\n",
    "\n",
    "def plot_hist(x):\n",
    "    plt.figure(figsize=(5, 5))\n",
    "    plt.hist(x)\n",
    "    plt.show()\n",
    "\n",
    "FILE_ORIGINAL = 'answer/iris.csv'\n",
    "FILE_LEARN = 'dataset/iris_learn.csv'\n",
    "FILE_PREDICT = 'dataset/iris_predict.csv'\n",
    "FILE_PREDICT_ANSWER = 'answer/iris_predict_answer.csv'\n",
    "\n",
    "COL_ID = 'id'\n",
    "# COL_ALL = [COL_ID, 'sepal.length', 'sepal.width', 'petal.length', 'petal.width']\n",
    "COL_ALL = [COL_ID, 'sepal.length', 'sepal.width', 'petal.width']\n",
    "COL_TARGET = COL_ALL[3]\n",
    "\n",
    "COL_FEATURE = []\n",
    "for col in COL_ALL:\n",
    "    if col == COL_TARGET or col == COL_ID:\n",
    "        pass\n",
    "    else:\n",
    "        COL_FEATURE.append(col)\n",
    "\n",
    "# データ生成\n",
    "df = pd.read_csv(FILE_ORIGINAL)\n",
    "df[COL_ID] = df.index\n",
    "\n",
    "N = 15\n",
    "display(df.groupby('variety').head(10).index)\n",
    "mask_predict = pd.Series(df.index).map(lambda x: x in df.groupby('variety').head(10).index)\n",
    "\n",
    "# mask = ~mask_predict\n",
    "# l = [15, 8, 8]\n",
    "# for i, name in enumerate(df['variety'].unique()):\n",
    "#     print(name, l[i])\n",
    "#     mask = mask | (pd.Series(df.index.tolist()).map(lambda x: x in df[df['variety'] == name].sample(l[i]).index))\n",
    "    \n",
    "# mask = ~mask_predict\n",
    "# df[mask][COL_ALL].to_csv(FILE_LEARN, index=False)\n",
    "# df[mask_predict][COL_ALL].drop(COL_TARGET, axis=1).to_csv(FILE_PREDICT, index=False)\n",
    "# df[mask_predict][[COL_TARGET]].to_csv(FILE_PREDICT_ANSWER, index=False)\n",
    "\n",
    "# display(df[mask_predict].groupby('variety').count())\n",
    "\n",
    "# 正解データ\n",
    "y_real = pd.read_csv(FILE_PREDICT_ANSWER)[COL_TARGET]"
   ]
  },
  {
   "cell_type": "code",
   "execution_count": 2,
   "metadata": {},
   "outputs": [],
   "source": [
    "# pandas の read_csvメソッドでファイルを読み込みます\n",
    "\n",
    "# 学習データ\n",
    "df_learn = pd.read_csv(FILE_LEARN)\n",
    "\n",
    "# 予測データ\n",
    "df_predict = pd.read_csv(FILE_PREDICT)"
   ]
  },
  {
   "cell_type": "code",
   "execution_count": 3,
   "metadata": {},
   "outputs": [
    {
     "data": {
      "image/png": "[encoded data removed]",
      "text/plain": [
       "<Figure size 360x360 with 1 Axes>"
      ]
     },
     "metadata": {
      "needs_background": "light"
     },
     "output_type": "display_data"
    },
    {
     "data": {
      "text/plain": [
       "0.7132306582928614"
      ]
     },
     "execution_count": 3,
     "metadata": {},
     "output_type": "execute_result"
    }
   ],
   "source": [
    "# LinearRegressionが線形回帰のモジュールです\n",
    "\n",
    "# LinearRegressionを初期化します\n",
    "lr = LinearRegression()\n",
    "\n",
    "# fit で学習データからモデルを作成します\n",
    "X = df_learn[COL_FEATURE]\n",
    "y = df_learn[COL_TARGET]\n",
    "lr.fit(X, y)\n",
    "\n",
    "# predictで予測データから予測を行います\n",
    "y_pred = lr.predict(df_predict[COL_FEATURE])\n",
    "\n",
    "# 散布図というグラフを描画します\n",
    "# y_realは答えです。\n",
    "plot_scatter(y_real, y_pred)\n",
    "\n",
    "# r2_scoreは評価するための関数です\n",
    "r2_score(y_real, y_pred)"
   ]
  },
  {
   "cell_type": "markdown",
   "metadata": {},
   "source": [
    "# どのように精度をあげていくか？\n",
    "## データを確認しよう\n",
    "\n",
    "* エクセルでデータを見てみよう\n",
    "* 散布図\n",
    "* ヒストグラムを書こう\n",
    "\n",
    "## 気づくことはありますか？\n",
    "\n",
    "* ヒント１：点や棒のかたまりはいくつあるか？\n",
    "* ヒント２：かたまりは何を意味しているのでしょうか？\n",
    "\n",
    "## どうすれば精度はあがりそうですか？"
   ]
  },
  {
   "cell_type": "code",
   "execution_count": 6,
   "metadata": {},
   "outputs": [
    {
     "data": {
      "image/png": "[encoded data removed]",
      "text/plain": [
       "<Figure size 360x360 with 1 Axes>"
      ]
     },
     "metadata": {
      "needs_background": "light"
     },
     "output_type": "display_data"
    },
    {
     "data": {
      "image/png": "[encoded data removed]",
      "text/plain": [
       "<Figure size 360x360 with 1 Axes>"
      ]
     },
     "metadata": {
      "needs_background": "light"
     },
     "output_type": "display_data"
    },
    {
     "data": {
      "text/plain": [
       "0.8615698661603043"
      ]
     },
     "execution_count": 6,
     "metadata": {},
     "output_type": "execute_result"
    }
   ],
   "source": [
    "# # 解答例\n",
    "\n",
    "# df_learn = pd.read_csv(FILE_LEARN)\n",
    "# df_predict = pd.read_csv(FILE_PREDICT)\n",
    "\n",
    "# col1 = COL_FEATURE[0]\n",
    "# col2 = COL_FEATURE[1]\n",
    "\n",
    "# plot_scatter(df_learn[col1] / df_learn[col2], df_learn[COL_TARGET])\n",
    "\n",
    "# P = 1.75\n",
    "# COL_CLASS = 'class'\n",
    "# df_learn[COL_CLASS] = df_learn[col1] / df_learn[col2] < P\n",
    "# df_predict[COL_CLASS] = df_predict[col1] / df_predict[col2] < P\n",
    "\n",
    "\n",
    "# df_mx = pd.DataFrame([], columns=['real', 'predict'])\n",
    "\n",
    "# for name in df_learn[COL_CLASS].unique():\n",
    "#     mask_learn = df_learn[COL_CLASS] == name\n",
    "#     mask_predict = df_predict[COL_CLASS] == name\n",
    "#     df_tmp_learn = df_learn[mask_learn]\n",
    "#     df_tmp_predict = df_predict[mask_predict]    \n",
    "#     # LinearRegressionを初期化します\n",
    "#     lr = LinearRegression()\n",
    "\n",
    "#     # fit で学習データからモデルを作成します\n",
    "#     X = df_tmp_learn[COL_FEATURE]\n",
    "#     y = df_tmp_learn[COL_TARGET]\n",
    "#     lr.fit(X, y)\n",
    "\n",
    "#     # predictで予測データから予測を行います\n",
    "#     y_pred = lr.predict(df_tmp_predict[COL_FEATURE])\n",
    "\n",
    "#     df_mx = pd.concat([\n",
    "#         df_mx,\n",
    "#         pd.DataFrame({\n",
    "#             'real': y_real[mask_predict].tolist(), \n",
    "#             'predict': y_pred.tolist()\n",
    "#         })\n",
    "#     ], ignore_index=True)\n",
    "\n",
    "# plot_scatter(df_mx['real'], df_mx['predict'])\n",
    "# r2_score(df_mx['real'], df_mx['predict'])"
   ]
  },
  {
   "cell_type": "code",
   "execution_count": null,
   "metadata": {
    "scrolled": false
   },
   "outputs": [],
   "source": []
  },
  {
   "cell_type": "code",
   "execution_count": null,
   "metadata": {},
   "outputs": [],
   "source": []
  },
  {
   "cell_type": "code",
   "execution_count": null,
   "metadata": {},
   "outputs": [],
   "source": []
  }
 ],
 "metadata": {
  "kernelspec": {
   "display_name": "Python 3",
   "language": "python",
   "name": "python3"
  },
  "language_info": {
   "codemirror_mode": {
    "name": "ipython",
    "version": 3
   },
   "file_extension": ".py",
   "mimetype": "text/x-python",
   "name": "python",
   "nbconvert_exporter": "python",
   "pygments_lexer": "ipython3",
   "version": "3.8.6"
  }
 },
 "nbformat": 4,
 "nbformat_minor": 2
}
